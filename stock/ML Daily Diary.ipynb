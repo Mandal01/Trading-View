NAME=Sidharth Mandal.
ROLL NO.1903002045

Machine Learning (ML) is basically that field of computer science with the help of which computer systems can provide sense to data in much the same way as human beings do. In simple words, ML is a type of artificial intelligence that extract patterns out of raw data by using an algorithm or method.
0()
#DAY-1
The print statement can be used in the following ways : In Python, single, double and triple quotes are used to denote a string. Most use single quotes when declaring a single character. Double quotes when declaring a line and triple quotes when declaring a paragraph/multiple lines. Use 'file=sys.stderr' for errors
# WORDS OF THE DAY.

turmoil -conofusion
uplift - improve
valour -heroism
vanquish -defeat
withhold - to refuse to give

Printing statement.

#printing statement: print()
#Text or symbols: use quotes around them ' '," "
print('Hello Python')
print("Hello python")
print('%$#@!&*()12434')
#Numbers
print(1234)
print(12.5)


# Data Types.
1. Numbers:
 1. INTEGERS: 1,2,3,4,78,90,56,-3,-78,0,-45 >>> int
 2. FLOATING POINT NUMBERS: 12.4,78.9,-67.8677 >>> float

 # printing numbers
print(12)
print(34.67)
#check type: to check type we can use type ()
print(type(12))
print(type(34.67678678698797))


Arithmetic Operations
1. Additon (+)
2. Subtarction (-)
3. Multipliaction (*)
4. Division(/) : returns an float value as result of division
5. floor division (//): returns an int value as result of division
6. Modulus (%) : returns a remainder value as result of division
7.Exponent(**)

print(12+43+67.56+56+78)
print(23-5)
print(34*5)
print(34/5)
print(34//5)
print(2**3)
print(34%5)

#DAY-2

#words of the day

obstract ... blocking
obonoxious..... unpleasant
overwhelm..... submerged
omission... left out
petrify.....paralyzed

user input:
input() method is used to take inputs from the user
Syntax:
 variable=input('statement')

...
user_input=input('Enter any value:')
print(user_input)

Constructors of data classes:
1. integer-----------int
2. floating point----float
3. string------------str
4. List--------------list
5. Tuple-------------tuple
6. Dictionary--------dict
7. Set---------------set

Data Types
Core data types of Python
1. Numbers
2. Strings
3. List
4. Tuples
5. Dictionary
6. Set
# Python IDLE integrated development learning environment
# Pychram jetbrains
# Jupyter notebook
# anconda
# w3 school
# googlecolab

#Task to print a poem (twinkle-twinkle little star)

print(''' twinkle twinkle little star
how I wonder what you are
up above the world so high
like a diamond in the sky ''')
print('''

''')


# Numbers: are divided into two more data types
1,2,3,4,5,3,-7,-30 ,0 >>> Integers >>>>>>>>>>>>>> int (data type)




Arithmetic operations
1. Addition (+)
2. Subtraction (-)
3. Multiplication (*)
4. Division (/)
5. Exponent (**)
6. Modulus (%)
7. Floor division(//)


Variables
Containers to store data in memeory
e.g var=21


12.5, 67.9, 77.967567567567567567 >>>>> floating point numbers >>>>> float
(data type)

# Arithemetic operations
print(12+67+574+45.6+56)
print(78-34)
print(1*34*56/78)
print(2**4)
print(43/5) #result of this operation is floating point number
print(43//5) #result of this operation is integer number
print(43%5) #result of this operation is remainder

#order of arithmetic operations
# PEMDAS------ Parenthesis, Exponenet, Multiplication, Division , Addition,
print(12*45/4/5-(4+3))

#example
a=45
g='python'
b=67
c=67.9
print(a,b,c,g)
4





DAY-3

# Word of the day
panacea  - solution 
Prepostureous- ridiculous
pragmatic - to deal in pratical day
probhibit - forbid
quaint - unusual 

String
1. strings are the combinations of character. e.g Ml-2,python,234@gmail
 syntax:
 ' ' , " "
 e.g 'Python',"ML-2", "Right way to code" etc 
2. String is an ordered collection of elements i.e every elemenet has a definte position
 'python'>>>
 p-0
 y-1
 t-2
 h-3
 o-4
 n-5 
 >>>>>positive indexing
 n=-1
 o=-2
 h=-3
 t=-4
 y=-5
 p=-6
 >>>>>> Negative indexing

C. String are imutable Data types. i.e We cannot change it any time
#Overview of Technology
# Example 
a='ML-2'
print(a)
print('Hello')

1. Features of Python
2. Reasons to learn python
3. Why python in demand
4. Applications of python
5. Project demonstrations


user input
#Home work
# Make a simple calculator which can perform basic arithmetic operations

#Task Submission
# task ( Make a simple calculator which can perform basic arithmetic operati
#Program
a=int(input("enter a: "))
b=int(input("enter b: "))
print("addition: ",a+b)
print("sutraction: ",a-b)
print("division: ",a/b)
print("multiplication: ",a*b)
print("exponent: ",a**b)
print("average: ",a//b)
# input (): this is a python inbuilt method to take input from user
# syntax: variable=input(' User string ')
#example
a=input('Enter a number: ')
print(a)
b=float(input('Enter a number: '))
print(b)
print(int(a)+b-int(a)-b-int(a))
print(c)
# check the address of data stored in memory
# id ()
print(id(a))
print(id(b))
print(id('python'))
# data type : use type() to find type of data
a=45
v=88.9
h='hello'
php='backend language'
print(type(a))
print(type(v))
print(type(h))
print(type(php))
# default type of user input is string
a=input('Enter a number: ')
print(a)
print(type(a))


#DAY 4

# word of the day

symphony - harmony
truce - agreement
threshold - verge
tamper - interfere
tarnish - disrespect

#MULTIPLE USER INPUT
a,b,c,d=input('Enter values: ').split()
print('a=',a)
print('b=',b)
# type(): is used to find th e type of data
print(type(a))
print(type(b))
# Type- casting: conversion of one type of data into another (e.g int to f
a=12
b=23.6
c='Python'
print(type(a))
print(type(b))
print(type(c))
#conversion
a=float(a)
print(type(a))
b=int(b)
print(type(b))
a=str(a)
print(type(a))


#DAY 5
Fantast--------------Visionary

Moonshot----------long shot

Interlard-----------insert

Amity-------------friends

Modicum--------small Quantity

#program to find a type of data defined by the user
name,roll_no,per=input("Enter your Name, Roll No and previous course percent
roll_no=int(roll_no)
per=float(per)
print('Data type of variable Name =',type(name), '\nData type of variable Ro
#airthmetic operations of Four numbers
a=float(input('Enter 1st number : '))
b=float(input('Enter 2nd number : '))
c=float(input('Enter 3rd number : '))
d=float(input('Enter 4th number : '))
print('Airthmetic operations :- \nAddition :-: ',(a+b+c+d),'\nSubtraction :
#Kamal Kishore CSE 235:40 PM
# perform arithmetic operations in multiple values.
a,b,c,d=(input('Enter your values:')).split()
print (a,b,c,d)
sum_1=(int(a)+int(b)+int(c)+int(d))
sub=(int(a)-int(b)-int(c)-int(d))
mul=(int(a)*int(b)*int(c)*int(d))
div=(int(a)/int(b)/int(c)/int(d))
avg=((int(a)+int(b)+int(c)+int(d))/4)
print('additon',sum_1)
print('substract',sub)
print('multiplication',mul)
print('division',div)
print('average',avg)

# Write a program to find type of data defined by user
a= 23
b= 33.5
c='kamal kishore'
print(type(a))
print(type(b))
print(type(c))
#Sahil5:41 PM
#Make a program to find type of data defined by user?
age = int(input("enter the age: "))
name = input("enter the name: ")
print(type(age))
print(type(name))
#Sahil5:42 PM
#Perform arithmetic operation in multiple values (4 inputs)?
num1 = float(input(" Please Enter the First Value Number 1: "))
num2 = float(input(" Please Enter the Second Value Number 2: "))
num3 = float(input(" Please Enter the First Value Number 3: "))
num4 = float(input(" Please Enter the Second Value Number 4: "))
add = num1 + num2 + num3 + num4
sub = num1 - num2 - num3 - num4

multi = num1 * num2 * num3 *num4
div = num1 / num2 / num2 / num4
print(add)
print(sub)
print(multi)
print(div)

#Perform operations in multiple values
a,b,c,d=(input("Enter your values: ")).split()
print (a,b,c,d)
sum1=(int(a)+int(b)+int(c)+int(d))
sub=(int(a)-int(b)-int(c)-int(d))
mul=(int(a)*int(b)*int(c)*int(d))
div=(int(a)/int(b)/int(c)/int(d))
print("Additon",sum1)
print("Substraction",sub)
print("Multiplication",mul)
print("Division",div)

a,b,c,d=(input("Enter your values: ")).split()
print (a,b,c,d)
sum1=(int(a)+int(b)+int(c)+int(d))
sub=(int(a)-int(b)-int(c)-int(d))
mul=(int(a)*int(b)*int(c)*int(d))
div=(int(a)/int(b)/int(c)/int(d))
print("Additon",sum1)
print("Substraction",sub)
print("Multiplication",mul)
print("Division",div)

#Emoji's in python
print('\U0001F600')
print('\U0001F601')
print('\U0001F604')
print('\U0001F606')
print('\N{winking face}')

a,b,c,d=(input("Enter your values: ")).split()
print (a,b,c,d)
sum1=(int(a)+int(b)+int(c)+int(d))
sub=(int(a)-int(b)-int(c)-int(d))
mul=(int(a)*int(b)*int(c)*int(d))
div=(int(a)/int(b)/int(c)/int(d))
print("Additon",sum1,'\U0001F606')
print("Substraction",sub,'\U0001F606')
print("Multiplication",mul)
print("Division",div)

#DAY-6

fantast - vivionary
moonshot - long shot
interlard - insert
amity - friends
modicum - small quantity

String
definition:- Combination of characters e.g python, hey123, abc@123
syntax:
'string' , "string"
Important points:
1. String is an ordered collection
2. Strings are mutable data types

# Example
st='python'
print(st)
st1='hey hello python strings'
print(st1)

Indexing:
a,b,c,d=(input("Enter your values: ")).split()
print (a,b,c,d)
sum1=(int(a)+int(b)+int(c)+int(d))
sub=(int(a)-int(b)-int(c)-int(d))
mul=(int(a)*int(b)*int(c)*int(d))
div=(int(a)/int(b)/int(c)/int(d))
print("Additon",sum1,'\U0001F606')
print("Substraction",sub,'\U0001F606')
print("Multiplication",mul)
print("Division",div)

#Task improve your calculator code and use emoji's with result

# Example
st='python'
print(st)
st1='hey hello python strings'
print(st1)

def: Position of elements in sequence is called index
e.g 'python' >>> p-0
y-1
t-2
h-3
o-4
n-5
>>>>Positive indexing
n=-1
o=-2
h=-3
t=-4
y=-5
p=-6
>>>>>Negative indexing

mutable >>>>>changeble
immutable>>>unchangeable

#Example
s='Hey Python'
print(s)
print(s[6])
# Extending index method
#syntax: var[index] or var[start index:end index: step] ( end index-1

sas='HELLO'
# reading single value
print(sas[2])
print(sas[0])
print(sas[-1])
print(sas[-2])
# Accessing multiple values
# var[start index:end index: step]
sas='HELLO PYTHON'
print(sas[0:5:1])
print(sas[1:4:1])
print(sas[0:5:2])
print(sas[::])
print(sas[::-1]) # reverse of string


string='hello'
print('Print the whole string: ',string[:])
print('First four letters : ',string[-5:-1])
print('First three letters : ',string[-5:-2])
print('First two letters : ',string[-5:-3])
print('First letter : ',string[-5])

#DAY-7

# words of the day
obstract ... blocking
obonoxious..... unpleasant
overwhelm..... submerged
omission... left out
petrify.....paralyzed

#Len(): is used to calculate the length of sequence
print(len('HEEEEEEEE'))
s='kkeeeeeeee'
print(len(s))
var=str(12)
var

# str - string constructor
#type()
#type casting
java=34
python=str(java)
print(type(java))
print(type(python))
# dir() method is used to check the in bulit functions of any class
dir(str)
# Empty string
empty=''
print(empty)
#Non empty
ns='batch-6 python technology'
#capitalize
print(ns.capitalize())
#title
print(ns.title())
#Upper and lower
print(ns.upper())
print(ns.lower())
# Count: this method will give you the count of specified element
print(ns.count('t'))
#index: returns the position of element in the sequence
print(ns.index('c'))
# find():returns the position of element in the sequence
print(ns.find('z'))
#center method
print(ns.center(len(ns)+6,'*'))

print(ns.center(len(ns)+10,'\U0001F606'))
# Task to use all methods of string with example
# Help( w3schools, geeksforgeeks, tutorialpoints)

#DAY - 8
Turmoil-------------------confusion

Uplift----------------------improve

Valour---------------------heroism

Vanquish------------------Defeat

Withhold-----------------to refuse to give

List:
1. list is just like an array which can hold heterogenous type of data
2. List is an ordered sequence
3. List is a mutable type of data i.e we can add or remove data from li
st after definition of list
4. Syntax:
var=[1,2,3,4,7,'hgh','*']


#define
list_1=[1,2,3,'gh','^','&',45.7]
print(list_1)
# type() : is used to check the class of data
print(type(list_1))
print(type('fg'))
print(type(45.7))

#Task Submission
a=input("enter the string")
print(type(a))
print(a)
print(len(a))#length of string
print(a[::-1])#reverse
c=input("enter element you want to search ")
print(a.index(c))#printing the index of an element
char=input("enter the element you want to count ")
count=a.count(char)
if char in a:
print(count)
else:
if char not in a:
print("Sorry,its not present in the given string")
print(a[3])
print(a[-4])

#DAY-9
Quench------------To satisfy thirst by drinking water

Reign--------------Rule

Sovereign---------Ruler

Descendent-------Successor

Plunge-------------To jump or dive quickly and energetically

# Empty list
list_2=[]
print(list_2)
# length of list
print(len(list_1))
print(len(list_2))

# Empty list
list_2=[]
print(list_2)
# length of list
print(len(list_1))
print(len(list_2))

# single input
var=input("Enter your value:")
print(var)
# Multiple values as input
x,y,z=input('enter values of x, y and z:').split()
x=int(x)
print(x,y,z)
type(x)


Methods of list

DAY-10

Triumph----great victory or achievement

Shepherd----a person who tends and cares for sheep

Validation--- certify

Plague-----contiguous bacterial disease

Oasis----- a fertile spot in desert where water is found

# List
# Syntax var =input('').split()

#Task Submission
#VARINDER SINGH5:15 PM
#(7/6/21)task to take a list from user,use of length and indexing in list
lismet=input("Enter elements of list using ',' as separator :").split(',')
print("Entered elements are : ",lismet)
print("length of entered list is : ",len(lismet))
print("2nd element in list from left is :",lismet[1])
print("2nd element in list from right is :",lismet[-2])
print("Reverse of entered list is : ",lismet.reverse())
#Amit kumar5:18 PM
#program to take list from user
a=input('Enter elements of a list:-').split()
#calculate the length of list
print(len(a))
#reverse of list
print(a[::-1])
#print the 2nd element from left and right
print('THE 2nd ELEMENT FROM LEFT IS',a[1])
print('THE 2nd ELEMENT FROM RIGHT IS',a[-2])
#Bhavya Beri5:23 PM
li=input("enter list").split(",")
print(len(li))
print(li[::-1])
lis=input("element from 2 position from left and right").split(",")
print(lis[1])
print(lis[-2])

#1.Take a list from user and perform atleast 5 list methods
Bhavya Beri5:23 PM
li=input("enter list").split(",")
print(len(li))
print(li[::-1])
lis=input("element from 2 position from left and right").split(",")
print(lis[1])
print(lis[-2])
Anshika Malik5:26 PM
list=[1,2,5,6,8,9]
list.reverse()
print(list)
print(len(list))
Shreyank5:30 PM
#Task to take a list from user
lis=input("Enter elements of list ").split(',')
print("Entered elements are : ",lis)
# lenght of List
print("length of entered list is : ",len(lis))
# 2nd element in list from left
print("2nd element in list from left is :",lis[1])
# 2nd Element in list from right
print("2nd element in list from right is ", lis[-2])
# Reverse Of list
print("Reverse of entered list is ", lis.reverse())
Bhavya Beri5:33 PM
List = ['Mathematics', 'chemistry', 1997, 2000]
List.append(20544)
print(List)
List.insert(2,10087)
print(List)
List1 = [1, 2, 3]
List2 = [2, 3, 4, 5]
# Add List2 to List1
List1.extend(List2)
print(List1)
# Add List1 to List2 now
List2.extend(List1)
print(List2)
print(sum(List1))
print(List2.count(1))
List = [1, 2, 3, 1, 2, 1, 2, 3, 2, 1]
print(len(List))
print(List.index(2))
print(min(List))
print(max(List))


l1=[1,2,3,4,4.5,'gh','t','%']
print(l1)

dir(list)
list_3=['gh',45,6.7,'h']
print(list_3)
#append(): add elements to list with help of append method
list_3.append('b6')
list_3.append(45)
list_3.append([1,23,4,4,5])
print(list_3)
#Extend: is used to add multiple values to list
list_3.extend([1,23,4,4,5])
print(list_3)
# modify
list_3[3]='ghhh'
print(list_3)
# remove elements from list
list_3.pop()
print(list_3)
list_3.pop()
print(list_3)
list_3.pop()
print(list_3)
list_3.pop()
print(list_3)
list_3.pop()
print(list_3)
# remove ()
list_3.remove(4)
print(list_3)
list_3.remove('gh')
print(list_3)
list_3.remove(6.7)
print(list_3)
list_3.remove(5)
print(list_3)

len(list_3)
list_3.clear()
print(list_3)




DAY-11
Laborious-------------------- Require much effort

Lucid--------------------------easy to understand

Moat--------------------------A ditch surrounding castle

Morph----------------------to change from one image to another

Melodious----------------Pleasant

Operators
Types of Operator
Python language supports the following types of operators.
 1. Arithmetic Operators
 2. Comparison (Relational) Operators
 3. Assignment Operators
 4. Logical Operators
 5. Bitwise Operators
 6. Membership Operators
 7. Identity Operators


PYTHON PROGRAMMING PLATFROMS
1. Python IDLE (python.org)
2. pycharm
3. vscode
4. Jupyter notebook
5. anconda
6. Spyder
7. Google colaboratory (online interpreter



len(list_3)

# typecasting
tup=tuple(list_3)

type(tup)
# Merge list
[1,2,3,4] + [5,7,9]
# Task
1. remove the user specified elements from the list
2. use sort function to sort list

# task submission


list_1 = [1,2,3,4,5,'maths', 'chemistry','panda', 'bear']
print(list_1)
# Remove the user specified elements from the list
list_1.remove(4)
list_1.remove('panda')
list_1.remove('maths')
print(list_1)
# Use sort function to sort list
list_2 = [4,9,2,6,3,8,5,7]
list_3 = ['maths', 'chemistry','panda', 'bear']
list_2.sort()
list_3.sort()
print(list_2)
print(list_3)

#Example
L1=[ 23,26,39,33,30]
printf(L1)
L1.remove(33)
print(L1)

#Examle
kamal=[23,6,33,45,29,13.5]
Kamal.sort ()
print(kamal)
#Nikhil Sharma CSE 265:05 PM
#remove elements from list
list1=[1,2,3,4,5,'ab',7]
print(list1)
list1.remove(3)
print(list1)
#sort the elements of list
a=[1,21,45,7,7.5]
a.sort()
print(a)

#Examle
#task: to remove a user specified element from the list
a,b,c,x,y,z=input("Enter the values of a,b,c,x,y,z respectively: ").split()
user_list=[a,b,c,x,y,z]
print(user_list)
rem=input("Enter the value of element to be removed: ")
user_list.remove(rem)
print("The list after removing the element is:")
print(user_list)
#sort()
print("The sorted list is: ")
user_list.sort()
print(user_list)

#Examle
list_4=[1,24,65,78,45]
print(list_4)
list_4=[1,24,65,78,45]
print(list_4)
[1, 24, 65, 78, 45]


Control statements:
1. if statement:
syntax:
if condition:
statement
2. if-else statement
syntax:
if condition:
statement
else:
statement
3. elif statements


#remove specific element from list
list_4.remove(24)
print(list_4)
[1, 65, 78, 45]
#to sort list
list_4.sort()
print(list_4)
[1, 45, 65, 78]

# if statement
a=int(input('Enter the value of a:'))
if a==2:
print('Hello')
else:
print('NO')
age=int(input("enter your age: "))
if age>=18:
print('You are elligible to vote')
else:
print('You are not elliglible ')



1. A permission system for children park
#7/6/21 task to enter user in childeren park using If else statememt
age=int(input('Welcome to the children park.\nKindly enter your age :'))
if(age<=18) :
print("Hey buddy!! you're most welcome :) ")
else :
print("Sorry sir!! but you are not child anymore :( ")
#Prateek kumar1826:23 PM
#8/6/21 task - a permission system for children park.
#RAVI KUMAR6:23 PM
if age<13:
print ("welcome children in park")
else
print("adult are not allowed in park")
#Himesh Punj6:25 PM
a=int(input("enter your age"))
if a>12:
{
print("acess denined")
}
else:
{
print("acess granted")
}
Nikhil Sharma CSE 266:26 PM
#A permission system for children park
age=int(input("Enter your age: "))
if age<=12:
print("You are Welcome to the park")
else:
print("You are not allowed in park")
Kamaljit Kaur6:26 PM
age=int(input(‘enter your age:’))
if age <=12
print(‘welcome to the park’)
else:
print(‘you are not allowed to enter’)
Yashika 2136:26 PM
#task : a program to allow user to go into the children's park
print("Welcome to the PARK",'\U0001F600')
age=int(input("Enter your age here: "))
if age>=3 and age<10:
print("You are allowed to enter to the park..Enjoy!!",'\U0001F973')
else:
print("You are NOT allowed to enter the park!",'\U0001F641')
Bhavya Beri6:27 PM
age=input("enter age of child")
if (age>=12):
print("child is eligible to enter the park")
else:


DAY-12

Ambiguity------Vagueness

2. Seldom---------Occasionally

3. Subsequent-------following

4. Orientation--------Familiarize

5. Tact--------------Diplomacy

elif statement
syntax:
if condition:
statement
elif condition:
statement
elif condition:
statement
......
else:
statement



print("child is not eligible to enter park")
Rahul Guleria6:27 PM
age=int(input("permission to enter the park:"))
if age>9:
print('permission to enter the park')
else:

A permission system for children park
age=int(input("Enter your age: "))
if age<=10:
print("You are Welcome to the park")
else:
print("You are not allowed in park")

distance=int(input('Enter distance in KMs: '))
print(distance)
if distance<10:
print('Your fare is 50 rupees')
elif distance>=10 and distance <20:
print('Your fare is 100 rupees')
elif distance>=20 and distance <30:
print('Your fare is 150 rupees')
elif distance>=30 and distance <40:
print('Your fare is 200 rupees')
else:
print('Invalid input')

#DAY-13

Symphony-------------- harmony

Truce------------------- agreement

Threshold--------------Verge

Tamper-----------------Interfere

Tarnish----------------- disrespect

#Task:Program to make an arithematic calculator and perform user specified op
n1=float(input('Enter 1st number : '))
n2=float(input('Enter 2nd number : '))
l=[['+','add','addition','plus','sum'],['minus','-','sub','subtraction','dif
o=input('Enter the operation :').casefold()#casefold()removes case sensitive
for w in range(len(l)):
 for i in l[w] :
 if o==i and o in l[0] :
 print(n1,'+',n2,'=',n1+n2)
 elif o==i and o in l[1]:
 print(n1,'-',n2,'=',n1-n2)
 elif o==i and o in l[2]:
 print(n1,'*',n2,'=',n1*n2)
 elif o==i and o in l[3]:
 print(n1,'/',n2,'=',n1/n2)
 elif o==i and o in l[4]:
 print(n1,'%',n2,'=',n1%n2)
 elif o==i and o in l[5]:
 print(n1,'**',n2,'=',n1**n2)
 elif o==i and o in l [6]:
 print(n1,'//',n2,'=',n1//n2)
else :
 print("Invalid Input !!!")

#LOOPs:
In python, while loop is used to execute a block of statements repeatedly until a given a condition is satisfied. And when the condition becomes false, the line immediately after the loop in program is executed.

loops are used to run a code multiple times
1. while loop
syntax: 
 while condition:
 body of loop
2. for loop

# while loop
a=0
while a<=4:
 print('####')
 a+=1 # a=a+1

a=1
while a<20:
 print('Integer number-',a)
 a+=2

# table print
a=1
user=int(input('Enter any number: '))
while a<=20:
 print(user,'x',a, '=',user*a)
 a+=1

#string formating

Task
1. program to print fibbonacci series
2. program to classify user input as prime or not
3. program to find the area of circle with user defined radius
4. program to find square root of a user defined number
DAY- 14
a=1
while a<20:
 print('Integer number-',a)
 a+=2
# table print
a=1
user=int(input('Enter any number: '))
while a<=20:
 print(user,'x',a, '=',user*a)
 a+=1
 
# String Formatting.
# first method
# f-formating: syntax--- f' string {variable} string {var2}'
a=23
b='python'
c='java'
print(f'The number of students in {b} and {c} is {a}')
# second method
#format method
print(('The number of students in {} and {} is {}').format(b,c,a))
# table print
a=1
user=int(input('Enter any number: '))
print('Your table is as: ')
while a<=20:
 
 print(f'{user} x {a} ={ user*a}')
 a+=1
#infinite loop
while True:
 print('hello')

 #DAY- 14

 #Objective Test

# Program to print Fibbonacci Series up to n-th term
nterms = int(input("Enter the number of terms "))
num_1, num_2 = 0, 1
count = 0
if nterms <= 0:
 print("Please Enter a Positive Integer")
elif nterms == 1:
 print("Fibonacci Sequence upto",nterms,":")
 print(num_1)
else:
 print("Fibonacci Sequence :")
 while count < nterms:
 print(num_1)
 nth = num_1 + num_2
 num_1 = num_2
 num_2 = nth
 count += 1

 #Task Solutions.
 #Python program to check Prime user_numberber
user_number=int(input("Enter a user_numberber"))
flag=0
i=2
while(i<=user_number-1):
 if (user_number % i)==0:
 flag+=1
 break;
 i=i+1
 
if(flag==0 and user_number!=1):
 
 print(f"{User_number} is a prime number.")
else:
 print(f"{user_number} is not a prime number")

#DAY - 15

#Tuples.
Python tuples are a data structure that store an ordered sequence of values. Tuples are immutable. This means you cannot change the values in a tuple. Tuples are defined with parenthesis

1. Tuples are ordered collection of elements
2. tuples can store heterogenous data types
3. Tuples are immutable data types i.e we cannot add or remove elements
from tuple once defined
Syntax:
 variable=(e1,e2,e3,e4,.....,en)
 or
 variable=e1,e,e3,e4,.......,en

 # defining tuple
tup=(1,2,3,4,5,6,'gh','u','hello')
print(tup)
tuple_1=1,2,3,4,4
print(tuple_1)
# type check
print(type(tup))
print(type(tuple_1))
print(type((3,4,5,6)))
# check memeory location
print(id(tup))
print(id(tuple_1))
print(id((3,4,5,7)))
# empty tuple
empty_tuple=()
print( empty_tuple)
# tuple with one element
tuple_2=(3,)
print(type(tuple_2))

 tuple constructor: (tuple)
str_var='23'
print(type(str_var))
list_var=[1,2,3,4]
print(type(list_var))
tuple_var=tuple(str_var)
tuple_var_1=tuple(list_var)
print(tuple_var)
print(type(tuple_var))
print(tuple_var_1)
print(type(tuple_var_1))
tuple_3=('python','java','c++','c')
print(tuple_3[2])
print(tuple_3[0:5:1])
print(tuple_3[::-1])
dir(tuple)
# count method
tuple_3=('java','c++','c','python','python')
tuple_3.count('python')
# index method
print(tuple_3.index('python'))
print(tuple_3.index('java'))
# len ()
len(tuple_3)
# del
del (tuple_3)
print(tuple_3)
1


#DAY-16

A for loop in Python is a control flow statement that is used to repeatedly execute a group of statements as long as the condition is satisfied. Such a type of statement is also known as an iterative statement. Thus, a for loop is an iterative statement.

for loop:
syntax:
for iterator in sequence:
 statement

 # define
a=[1,22,4,5,6,8]
for i in a: >>>i=0 (1) , i=1 (22),....., i=6 (false)
 print(i)
for a in 'pythonhello':
 print(a)
# remove duplicates from list
lis=[12,12,3,4,5,5,5,3,3]
l=[]
for i in lis:
 if i not in l:
 l.append(i) # >>>l=[12,3,4,5]
 
l
# even-odd numbers 
user_list=input('Enter elemnts of list: ').split()
print(user_list)
even_list=[]
odd_list=[]
for i in user_list:
 if int(i)%2==0:
 even_list.append(i)
 else:
 odd_list.append(i)
print(even_list)
print(odd_list)

#task
1. find vowels and consonants from a list and store them in two different lists
2. take a string as input from user and check whether it is palendrome or not 121 121 ram mar
nitin nitin kanak kanak
3. print the indices of elements of list or tuple 0-1 1-3

#take a list from user and store a vowels and consonants in two different li
user_input=input('Enter some letters separated by "," ').split(",")
print('Input list = ',user_input)
cases=['a','e','i','o','u']
vowels=[]
consonants=[]
for i in user_input:
 i=i.casefold()
 if i in cases:
 vowels.append(i)
 else:
 consonants.append(i)
print(f'vowels = {vowels}')
print(f'consonants = {consonants}')
#task to print an element indices using list
lis=input('Enter elements separated by "," : ').split(",")
print('iitive indexing')
i = 0
l= len(lis)-1
print(i,'=',lis[0])
while (i<l) :
 i=i+1
 print (i,'=',lis[i])
print('nagative indexing :')
len=-len(lis) 
j=0
while (j>len) :
 j=j-1
 print(j,"=",lis[j])
#check whether the entered string is pelindrom or not
string=input('Enter a string : ')
print('Entered string : ',string)
rev=string[::-1]
if rev==string:
 print('Entered string is pelindrome')
else:
 print('Entered string is not pelindrome')
...


#Day-17.
Winnow------------------sort out

Imperial------------------Royal

Kindle--------------------ignite

Agony--------------------suffering

Reverie------------------ Day dream

Team formation for presentation

Dictionary in Python is an unordered collection of data values, used to store data values like a map, which, unlike other Data Types that hold only a single value as an element, Dictionary holds key:value pair. Key-value is provided in the dictionary to make it more optimized.

Dictionary
It is the sequence of key-value pair type of data
syntax: 
 variable={key1:value1,key2:value,key3:value3,........}
1. Dictionary is an ordered collection of data
2. dictionary is a mutable data type

# example
dict_1={'name':['bhavya','dhiraj','ravi','janvi'],
 'mode': ('online' ,'offline'), 'time': '5-6:30','Batch':6,
 'name':'ram'}
print(dict_1)
print(12,end=' ')
print(23)
# empty dictionary
empty_dict={}
empty_dict
type(dict_1)
len(dict_1)

# Task :
dir(dict)
print(dict_1)
dict_1.keys()
dict_1.values()
dict_1.items()
dict_1.get('time')

lis=[[1,2,3],[4,5,6],[7,8,9],4,6]
print('Sub lists are = ',len(lis))

#DAY-18
WORDS OF THE DAY.
Ambivert-------------Introvert and extrovert

Stalwart--------------Loyal

Dozed----------------Sleep tightly

Fiddlestick----------Nonsense

Obtrusive----------- Obvious

dir(dict)
# Add elements to dictionary
# single value
dict_2={}
dict_2.update(key='value')
dict_2.update(key1='value1')
dict_2.update(key2='value2')
dict_2
# Multiple values
print(dict_2)
dict_2.update({'k':'v','k2':'v2'})
print(dict_2)
print(dict_2)
dict_3={'name':'Ram',1:2,3:4}
dict_2.update(dict_3)
print(dict_2)
# merging dictionaries
print(dict_2)
print(dict_3)
dict_4={**dict_2,**dict_3}
dict_4
# Remove elements from the dictionary
print(dict_2)
dict_2.pop('key2')
print(dict_2)
print(dict_2)
dict_2.popitem()
dict_2
dict_5={'key': 'value', 'key1': 'value1', 'key2': 'value2'}
dict_5
dict_5.clear()
dict_5
del(dict_5)
dict_5

A function is a block of organized, reusable code that is used to perform a single, related action. Functions provide better modularity for your application and a high degree of code reusing. As you already know, Python gives you many built-in functions like print(), etc. but you can also create your own functions.

Functions in python
Reuaseable code in python is called as function
 syntax:
 def function_name (argumemts):
 body of function
 function_name(data)

print('happy coding')
# defintion
def test(name):
 return f'This function is used to display {name}'
# calling to function
test('Ram')
test('Sham')
test('ABC')
print('ram')
print('sham')
print('BAC')

#DAY - 19.

pip install tkinter
pip install tkinterable

#import tkinter
# First window
import tkinter
from tkinter import Button
from tkinter import *
# to create a window Tk() method is used
root=tkinter.Tk()
# to set background of window
root.configure(bg='orange')
# to change title of window
root.title('First window')
# to set geometry of window geometry(width and height and padding) is used
root.geometry('500x400+300+150')
# Buttons
B1=Button(root, text='Click ME',width=30,height=10,bg='green'
 ,activebackground='red',bd=10,font=('Times New Roman',16,'bold')
 ,fg='yellow') # to create button
B1.pack() # pack() iis used to show button on the window
 
# to show all of your widgets on screen mainloop( ) is used
root.mainloop()


DAY-19

import tkinter as tk
from tkinter import *
root=tk.Tk()
root.geometry('700x500+200+100')
root.title('Second Window')
root.configure(bg='Blue')
# functions
def add():
 print('the sum of 12+56 is:',12+56)
def sub():
 print('The deifference is ',34-5)
def mul():
 print('the product is ',23*5)
b1=Button(root, text='Addition', width=10,height=3, bg='red', activebackgrou
 bd=5, relief='sunken',command=add)
b1.grid(row=0,column=2)
b2=Button(root, text='Subtract', width=10,height=3, bg='red', activebackgrou
 bd=5, relief='sunken',command=sub)
b2.grid(row=1,column=1)
b3=Button(root, text='Multiply', width=10,height=3, bg='red', activebackgrou
 bd=5, relief='sunken',command=mul)
b3.grid(row=2,column=1)
# labels
l1= Label(root, text='Click addition button',width=30, bd=10,fg='red')
l1.grid(row=0,column=0)
# entry
e1=Entry(root, width=10)
e1.grid(row=0,column=1)
root.mainloop()


#another ex.

import tkinter as tk
#Object creation for tkinter
parent = tk.Tk()
button = tk.Button(text="QUIT",
 
bd=10, #border-width of the button
 
bg="grey", #the initial background color of the button.
 
fg="red", #the color of the text label placed on the but
 
command=quit, #the operation which needs to take place on th
 
activeforeground="Orange", #color of the background area of the button whe
 
activebackground="blue", #Color of the text in the button when it gets c
 
font="Andalus", #font of the text to be used in the label of th
 
height=2, #represents the height of the button which is us
 
highlightcolor="purple", #focus highlight color
 
justify="right", #how the text needs to be aligned in the button,
 #whether it needs to be left-justified or right-j
 
padx=10, #the padding area between the label and the button corners 
pady=10, #the padding area between the label and the button corners 
 
relief="groove", #mentions the variety of the border that needs to be used,
 #some among the usual values are SUNKEN, GROOVE, RAISED and 
)
#pack geometry manager for organizing a widget before palcing them into the p
#possible options "Fill" [X=HORIZONTAL,Y=VERTICAL,BOTH] "side" [LEFT,RIGHT,T
button.pack(fill=tk.BOTH,side=tk.LEFT,expand=tk.YES)
#kick the program
parent.mainloop()


DAY-20
Décor ---------the furnishing and decoration of room

Lullaby--------A quiet, gentle song sung to send a child to sleep

Coronation----The ceremony of crowning a sovereign, king officially
as
king

Tranquilizer-----drug designed for treatment of anxiety, fear,
tension

Mediocre-------- Fair

Divine------------God Like


import tkinter as tk
from tkinter import *
root=tk.Tk()
root.geometry('500x400+200+100')
root.title('Data collector')
# function 
def sub():
 v1=StringVar()
 v2=StringVar()
 v3=StringVar()
 v1=e1.get()
 v2=e2.get()
 v3=e3.get()
 print(v1)
 print(v2)
 print(v3)
# Buttons
b1=Button(root,text='Submit',width=10,command=sub,fg='red')
b1. grid(row=4,column=1)
# Labels
l1=Label(root, text='Name', fg='red', width=10,bg='green')
l1.grid(row=0,column=0)
l2=Label(root, text='Tech', fg='red', width=10,bg='green')
l2.grid(row=1,column=0)
l3=Label(root, text='Batch', fg='red', width=10,bg='green')
l3.grid(row=2,column=0)
# entry
e1=Entry(root, width=15)
e1.grid(row=0,column=1)
e2=Entry(root, width=15)
e2.grid(row=1,column=1)
e3=Entry(root, width=15)
e3.grid(row=2,column=1)
root.mainloop()

dir(tk.Entry)

DAY-21

Words of the day
1. Ambiguity------Vagueness

2. Seldom---------Occasionally

3. Subsequent-------following

4. Orientation--------Familiarize

5. Tact--------------Diplomacy

1. to show databases: show databases;
2. to create database: CREATE DATABASE NAME_DATABASE;
3. To use database: USE NAME_DATABASE;
4. show tables: SHOW TABLES;
5. to create table: CREATE TABLE TABLE_NAME (COL_1 DATTYPE, COL_2
DATATYPE,COL_3 DATATYPE.....);
6. to insert data into table :INSERT INTO TABLE_NAME ( COL_1, COL_2,COL_3....)
VALUES(VALUE_1,VALUE_2, VALUE_3....);
7. TO CHECK WHETHER TABLE EXISTS OR NOT : DESC TABLE_NAME;


DAY-22
Words of the day

Triumph----great victory or achievement

Shepherd----a person who tends and cares for sheep

Validation--- certify

Plague-----contiguous bacterial disease

Oasis----- a fertile spot in desert where water is found

import tkinter as tk
from tkinter import *
root=tk.Tk()
root.geometry('500x400+200+100')
root.title('Data collector')
# data base connection
import mysql.connector
connection=mysql.connector.connect(host='localhost',username='root',password
connection.commit()
print('Successfully connected')
table='''create table if not exists gui_data ( Name VarChar(30), Technology 
var=connection.cursor()
var.execute(table)
connection.commit()
# function 
def sub():
 v1=StringVar()
 v2=StringVar()
 v3=StringVar()
 v1=e1.get()
 v2=e2.get()
 v3=e3.get()
 print(v1)
 print(v2)
 print(v3)
# Buttons
b1=Button(root,text='Submit',width=10,command=sub,fg='red')
b1. grid(row=4,column=1)
# Labels
l1=Label(root, text='Name', fg='red', width=10,bg='green')
l1.grid(row=0,column=0)
l2=Label(root, text='Tech', fg='red', width=10,bg='green')
l2.grid(row=1,column=0)
l3=Label(root, text='Batch', fg='red', width=10,bg='green')
l3.grid(row=2,column=0)
# entry
e1=Entry(root, width=15)
e1.grid(row=0,column=1)
e2=Entry(root, width=15)
e2.grid(row=1,column=1)
e3=Entry(root, width=15)
e3.grid(row=2,column=1)
root.mainloop()

DAY-23

Words of the day.
Confide------Trust

Custom-----habit

Converge-----combine

Catalyst-----something that precipitates an event

Catastrophe------- calamity

import tkinter as tk
from tkinter import *
root=tk.Tk()
root.geometry('500x400+200+100')
root.title('Data collector')
# function 
def sub():
 global v1
 global v2
 global v3
 v1=StringVar()
 v2=StringVar()
 v3=StringVar()
 v1=e1.get()
 v2=e2.get()
 v3=e3.get()
 print(v1)
 print(v2)
 print(v3)
 # Connection to database
 import mysql.connector
 connection = mysql.connector.connect(host='localhost', user='root',
 password='root', da
 cursor = connection.cursor()
 print('Done')
 cursor.execute('''CREATE TABLE IF NOT EXISTS gui_data
 (Name VarChar(30), Technology text, Batch TEXT)''')
 cursor.execute('''INSERT INTO gui_data (Name,Technology, Batch)
 values(%s,%s,%s)''',(v1,v2,v3))
 connection.commit()
# Buttons
b1=Button(root,text='Submit',width=10,command=sub,fg='red')
b1. grid(row=4,column=1)
# Labels
l1=Label(root, text='Name', fg='red', width=10,bg='green')
l1.grid(row=0,column=0)
l2=Label(root, text='Tech', fg='red', width=10,bg='green')
l2.grid(row=1,column=0)
l3=Label(root, text='Batch', fg='red', width=10,bg='green')
l3.grid(row=2,column=0)
# entry
e1=Entry(root, width=15)
e1.grid(row=0,column=1)
e2=Entry(root, width=15)
e2.grid(row=1,column=1)
e3=Entry(root, width=15)
e3.grid(row=2,column=1)
root.mainloop()

# virtual calci
import tkinter as tk
from tkinter import *
root=tk.Tk()
root.geometry('500x600+200+100')
# entry
e1=Entry(root,width=50, bd=3,bg='cyan')
e1.grid(row=0, columnspan=4)
# buttons
b1=Button(root,text='7',width=10,height=5, bd=3)
b1.grid(row=1,column=0)
b1=Button(root,text='6',width=10,height=5, bd=3)
b1.grid(row=1,column=1)
b1=Button(root,text='5',width=10,height=5, bd=3)
b1.grid(row=1,column=2)
b1=Button(root,text='4',width=10,height=5, bd=3)
b1.grid(row=1,column=3)
b1=Button(root,text='3',width=10,height=5, bd=3)
b1.grid(row=2,column=0)
b1=Button(root,text='2',width=10,height=5, bd=3)
b1.grid(row=2,column=1)
b1=Button(root,text='1',width=10,height=5, bd=3)
b1.grid(row=2,column=2)
b1=Button(root,text='+',width=10,height=5, bd=3)
b1.grid(row=2,column=3)
root.mainloop()

DAY-24

Words of the day

Bear-------to endure or tolerate

Fair--------Reasonable

Bow------ bend forward

Decent----righteous

Benevolent-----sympathetic

from tkinter import *
def click_button(numbers):
 global operator
 operator=operator + str(numbers)
 text_Input.set(operator)
def clear_button():
 
 text_Input.set('')
 operator=''
def equal_button():
 global operator
 sumup=str(eval(operator))
 text_Input.set(sumup)
 
cal=Tk()
cal.title("Batch 5 Calculator")
operator=""
text_Input=StringVar()
textDisplay=Entry(cal,font=('arial',20,'bold'),textvariable=text_Input,bd=30
 insertwidth=3,bg='cyan',justify='right').grid(columnspan=4
button7=Button(cal,padx=16,pady=16,bd=8,fg='black',font=('arial',20,'bold'),
 ,command=lambda:click_button(7))
button7.grid(row=1,column=0)
button8=Button(cal,padx=16,pady=16,bd=8,fg='black',font=('arial',20,'bold'),
 ,command=lambda:click_button(8))
button8.grid(row=1,column=1)
button9=Button(cal,padx=16,pady=16,bd=8,fg='black',font=('arial',20,'bold'),
 ,command=lambda:click_button(9))
button9.grid(row=1,column=2)
buttonAdd=Button(cal,padx=16,pady=16,bd=8,fg='black',font=('arial',20,'bold'
 ,command=lambda:click_button("+"))
buttonAdd.grid(row=1,column=3)
#############################
button4=Button(cal,padx=16,pady=16,bd=8,fg='black',font=('arial',20,'bold'),
 ,command=lambda:click_button(4))
button4.grid(row=2,column=0)
button5=Button(cal,padx=16,pady=16,bd=8,fg='black',font=('arial',20,'bold'),
 ,command=lambda:click_button(5))
button5.grid(row=2,column=1)
button6=Button(cal,padx=16,pady=16,bd=8,fg='black',font=('arial',20,'bold'),
 ,command=lambda:click_button(6))
button6.grid(row=2,column=2)
buttonSub=Button(cal,padx=16,pady=16,bd=8,fg='black',font=('arial',20,'bold'
 ,command=lambda:click_button("-"))
buttonSub.grid(row=2,column=3)
###############################
button1=Button(cal,padx=16,pady=16,bd=8,fg='black',font=('arial',20,'bold'),
 ,command=lambda:click_button(1))
button1.grid(row=3,column=0)
button2=Button(cal,padx=16,pady=16,bd=8,fg='black',font=('arial',20,'bold'),
 ,command=lambda:click_button(2))
button2.grid(row=3,column=1)
button3=Button(cal,padx=16,pady=16,bd=8,fg='black',font=('arial',20,'bold'),
 ,command=lambda:click_button(3))
button3.grid(row=3,column=2)
buttonMul=Button(cal,padx=16,pady=16,bd=8,fg='black',font=('arial',20,'bold'
 ,command=lambda:click_button("*"))
buttonMul.grid(row=3,column=3)
####################################
button0=Button(cal,padx=16,pady=16,bd=8,fg='black',font=('arial',20,'bold'),
 ,command=lambda:click_button(0))
button0.grid(row=4,column=0)
buttonClr=Button(cal,padx=16,pady=16,bd=8,fg='black',font=('arial',20,'bold'
 ,command=clear_button)
buttonClr.grid(row=4,column=1)
buttonEql=Button(cal,padx=16,pady=16,bd=8,fg='black',font=('arial',20,'bold'
 ,command=equal_button)
buttonEql.grid(row=4,column=2)
buttondiv=Button(cal,padx=16,pady=16,bd=8,fg='black',font=('arial',20,'bold'
 ,command=lambda:click_button("/"))
buttondiv.grid(row=4,column=3)
cal.mainloop()

string='12*3.4'
print(eval(string))
# Scientific Calculator #
from tkinter import *
import math
import parser
import tkinter.messagebox
root = Tk()
root.title("Scientific Calculator")
root.configure(background = 'white')
root.resizable(width=False, height=False)
root.geometry("480x568+450+90")
#root.iconbitmap(r'D:\A Electrical Engineering Data\1st Semester\Python\Spyd
calc = Frame(root)
calc.grid()

# Here are the Classes for all the Buttons in the Scientific Calculator.
class Calc():
 def __init__(self):
 self.total=0
 self.current=''
 self.input_value=True
 self.check_sum=False
 self.op=''
 self.result=False
 def numberEnter(self, num):
 self.result=False
 firstnum=txtDisplay.get()
 secondnum=str(num)
 if self.input_value:
 self.current = secondnum
 self.input_value=False
 else:
 if secondnum == '.':
 if secondnum in firstnum:
 return
 self.current = firstnum+secondnum
 self.display(self.current)
 def sum_of_total(self):
 self.result=True
 self.current=float(self.current)
 if self.check_sum==True:
 self.valid_function()
 else:
 self.total=float(txtDisplay.get())
 def display(self, value):
 txtDisplay.delete(0, END)
 txtDisplay.insert(0, value)

def valid_function(self):
 if self.op == "add":
 self.total += self.current
 if self.op == "sub":
 self.total -= self.current
 if self.op == "multi":
 self.total *= self.current
 if self.op == "divide":
 self.total /= self.current
 if self.op == "mod":
 self.total %= self.current
 self.input_value=True
 self.check_sum=False
 self.display(self.total)
 def operation(self, op):
 self.current = float(self.current)
 if self.check_sum:
 self.valid_function()
 elif not self.result:
 self.total=self.current
 self.input_value=True
 self.check_sum=True
 self.op=op
 self.result=False
 def Clear_Entry(self):
 self.result = False
 self.current = "0"
 self.display(0)
 self.input_value=True
 def All_Clear_Entry(self):
 self.Clear_Entry()
 self.total=0
 def pi(self):
 self.result = False
 self.current = math.pi
 self.display(self.current)
 def tau(self):
 self.result = False
 self.current = math.tau
 self.display(self.current)
 def e(self):
 self.result = False
 self.current = math.e
 self.display(self.current)
 def mathPM(self):
 self.result = False
 self.current = -(float(txtDisplay.get()))
 self.display(self.current)
 def squared(self):
 self.result = False
 self.current = math.sqrt(float(txtDisplay.get()))
 self.display(self.current)
 def cos(self):
 self.result = False
 self.current = math.cos(math.radians(float(txtDisplay.get())))
 self.display(self.current)
 def cosh(self):
 self.result = False
 self.current = math.cosh(math.radians(float(txtDisplay.get())))
 self.display(self.current)
 def tan(self):
 self.result = False
 self.current = math.tan(math.radians(float(txtDisplay.get())))
 self.display(self.current)
 def tanh(self):
 self.result = False
 self.current = math.tanh(math.radians(float(txtDisplay.get())))
 self.display(self.current)
 def sin(self):
 self.result = False
 self.current = math.sin(math.radians(float(txtDisplay.get())))
 self.display(self.current)
 def sinh(self):
 self.result = False
 self.current = math.sinh(math.radians(float(txtDisplay.get())))
 self.display(self.current)
 def log(self):
 self.result = False
 self.current = math.log(float(txtDisplay.get()))
 self.display(self.current)
 def exp(self):
 self.result = False
 self.current = math.exp(float(txtDisplay.get()))
 self.display(self.current)
 def acosh(self):
 self.result = False
 self.current = math.acosh(float(txtDisplay.get()))
 self.display(self.current)
 def asinh(self):
 self.result = False
 self.current = math.asinh(float(txtDisplay.get()))
 self.display(self.current)
 def expm1(self):
 self.result = False
 self.current = math.expm1(float(txtDisplay.get()))
 self.display(self.current)
 def lgamma(self):
 self.result = False
 self.current = math.lgamma(float(txtDisplay.get()))
 self.display(self.current)
 def degrees(self):
 self.result = False
 self.current = math.degrees(float(txtDisplay.get()))
 self.display(self.current)
 def log2(self):
 self.result = False
 self.current = math.log2(float(txtDisplay.get()))
 self.display(self.current)
 def log10(self):
 self.result = False
 self.current = math.log10(float(txtDisplay.get()))
 self.display(self.current)
 def log1p(self):
 self.result = False
 self.current = math.log1p(float(txtDisplay.get()))
 self.display(self.current)
added_value = Calc()
# ==========================================================================
# Here is the code for Display of Calculator.
txtDisplay = Entry(calc, font=('Helvetica',20,'bold'),bg='black',fg='white',
 width=28,justify=RIGHT)
txtDisplay.grid(row=0,column=0, columnspan=4, pady=1)
txtDisplay.insert(0,"0")
# ==========================================================================
# Here is the code for NUMBER PAD in Calculator.
numberpad = "789456123"
i=0
btn = []
for j in range(2,5):
 for k in range(3):
 btn.append(Button(calc, width=6, height=2, bg='white',fg='black', fo
 bd=4,text=numberpad[i]))
 btn[i].grid(row=j, column= k, pady = 1)
 btn[i]["command"]=lambda x=numberpad[i]:added_value.numberEnter(x)
 i+=1
 
# ==========================================================================
# Here is the code for Button of Standard Calulator.
btnClear = Button(calc, text=chr(67),width=6, height=2,bg='black',fg='white'
 ,bd=4, command=added_value.Clear_Entry).grid(row=1, column
btnAllClear = Button(calc, text=chr(67)+chr(69),width=6, height=2,bg='black'
 ,20,'bold'),bd=4,command=added_value.All_Clear_Entry).grid(row=1
btnsq = Button(calc, text="\u221A",width=6, height=2,bg='black',fg='white', 
 bd=4,command=added_value.squared).grid(row=1, column= 2, p
btnAdd = Button(calc, text="+",width=6, height=2,bg='black',fg='white', font
 bd=4,command=lambda:added_value.operation("add")
 ).grid(row=1, column= 3, pady = 1)
btnSub = Button(calc, text="-",width=6, height=2,bg='black',fg='white', font
 bd=4,command=lambda:added_value.operation("sub")
 ).grid(row=2, column= 3, pady = 1)
btnMul = Button(calc, text="x",width=6, height=2,bg='black',fg='white', font
 bd=4,command=lambda:added_value.operation("multi")
 ).grid(row=3, column= 3, pady = 1)
btnDiv = Button(calc, text="/",width=6, height=2,bg='black',fg='white', font
 bd=4,command=lambda:added_value.operation("divide")
 ).grid(row=4, column= 3, pady = 1)
btnZero = Button(calc, text="0",width=6, height=2,bg='white',fg='black', fon
 bd=4,command=lambda:added_value.numberEnter(0)
 ).grid(row=5, column= 0, pady = 1)
btnDot = Button(calc, text=".",width=6, height=2,bg='black',fg='white', font
 bd=4,command=lambda:added_value.numberEnter(".")
 ).grid(row=5, column= 1, pady = 1)
btnPM = Button(calc, text=chr(177),width=6, height=2,bg='black',fg='white', 
 bd=4,command=added_value.mathPM).grid(row=5, column= 2, pa
btnEquals = Button(calc, text="=",width=6, height=2,bg='black',fg='white', f
 bd=4,command=added_value.sum_of_total).grid(row=5, column=
# ==========================================================================
# Here is the code for Buttons of Scientific Calulator.
# Here i make the rows for the Button of Scientific Calulator.
# ROW 1 :
btnPi = Button(calc, text="pi",width=6, height=2,bg='white',fg='black', font
 bd=4,command=added_value.pi).grid(row=1, column= 4, pady =
btnCos = Button(calc, text="Cos",width=6, height=2,bg='white',fg='black', fo
 bd=4,command=added_value.cos).grid(row=1, column= 5, pady
btntan = Button(calc, text="tan",width=6, height=2,bg='white',fg='black', fo
 bd=4,command=added_value.tan).grid(row=1, column= 6, pady
btnsin = Button(calc, text="sin",width=6, height=2,bg='white',fg='black', fo
 bd=4,command=added_value.sin).grid(row=1, column= 7, pady
 # **************************************************************************
# ROW 2 :
btn2Pi = Button(calc, text="2pi",width=6, height=2,bg='white',fg='black', fo
 bd=4,command=added_value.tau).grid(row=2, column= 4, pady
btnCosh = Button(calc, text="Cosh",width=6, height=2,bg='white',fg='black', 
 bd=4,command=added_value.cosh).grid(row=2, column= 5, pady
btntanh = Button(calc, text="tanh",width=6, height=2,bg='white',fg='black', 
 bd=4,command=added_value.tanh).grid(row=2, column= 6, pady
btnsinh = Button(calc, text="sinh",width=6, height=2,bg='white',fg='black', 
 bd=4,command=added_value.sinh).grid(row=2, column= 7, pady
#***************************************************************************
# ROW 3 :
btnlog = Button(calc, text="log",width=6, height=2,bg='white',fg='black', fo
 bd=4,command=added_value.log).grid(row=3, column= 4, pady
btnExp = Button(calc, text="exp",width=6, height=2,bg='white',fg='black', fo
 bd=4,command=added_value.exp).grid(row=3, column= 5, pady
btnMod = Button(calc, text="Mod",width=6, height=2,bg='white',fg='black', fo
 bd=4,command=lambda:added_value.operation("mod")
 ).grid(row=3, column= 6, pady = 1)
btnE = Button(calc, text="e",width=6, height=2,bg='white',fg='black', font=(
 bd=4,command=added_value.e).grid(row=3, column= 7, pady =
#***************************************************************************
# ROW 4 :
btnlog10 = Button(calc, text="log10",width=6, height=2,bg='white',fg='black'
 ,bd=4,command=added_value.log10).grid(row=4, column= 4, pa
btncos = Button(calc, text="log1p",width=6, height=2,bg='white',fg='black', 
 bd=4,command=added_value.log1p).grid(row=4, column= 5, pad
btnexpm1 = Button(calc, text="expm1",width=6, height=2,bg='white',fg='black'
 ,bd=4,command=added_value.expm1).grid(row=4, column= 6, pa
btngamma = Button(calc, text="gamma",width=6, height=2,bg='white',fg='black'
 ,bd=4,command=added_value.lgamma).grid(row=4, column= 7, p
#***************************************************************************
# ROW 5 :
btnlog2 = Button(calc, text="log2",width=6, height=2,bg='white',fg='black', 
 bd=4,command=added_value.log2).grid(row=5, column= 4, pady=50)
 btndeg = Button(calc, text="deg",width=6, height=2,bg='white',fg='black', fo
 bd=4,command=added_value.degrees).grid(row=5, column= 5, p
btnacosh = Button(calc, text="acosh",width=6, height=2,bg='white',fg='black'
 bd=4,command=added_value.acosh).grid(row=5, column= 6, pad
btnasinh = Button(calc, text="asinh",width=6, height=2,bg='white',fg='black'
 bd=4,command=added_value.asinh).grid(row=5, column= 7, pad
lblDisplay = Label(calc, text = "Scientific Calculator",font=('Helvetica',30
 bg='black',fg='white',justify=CENTER)
lblDisplay.grid(row=0, column= 4,columnspan=4)
# ==========================================================================
# Here are the fucntions for ManuBar.
def iExit():
 iExit = tkinter.messagebox.askyesno("Scientific Calculator","Do you want
 if iExit>0:
 root.destroy()
 return
def Scientific():
 root.resizable(width=False, height=False)
 root.geometry("944x568+0+0")
def Standard():
 root.resizable(width=False, height=False)
 root.geometry("480x568+0+0")
# ==========================================================================
menubar = Menu(calc)
# ManuBar 1 :
filemenu = Menu(menubar, tearoff = 0)
menubar.add_cascade(label = 'File', menu = filemenu)
filemenu.add_command(label = "Standard", command = Standard)
filemenu.add_command(label = "Scientific", command = Scientific)
filemenu.add_separator()
filemenu.add_command(label = "Exit", command = iExit)
# ManuBar 2 :
editmenu = Menu(menubar, tearoff = 0)
menubar.add_cascade(label = 'Edit', menu = editmenu)
editmenu.add_command(label = "Cut")
editmenu.add_command(label = "Copy")
editmenu.add_separator()
editmenu.add_command(label = "Paste")
root.config(menu=menubar)
root.mainloop()
### Radio Buttons 
import tkinter as tk
from tkinter import *
root=tk.Tk()
root.geometry('500x400+200+100')
root.configure(bg='cyan')
root.maxsize(700, 600)
root.minsize(300,200)
v1=StringVar()
# Radio Buttons
r1=Radiobutton(root, text='Python', width=15,height=5, bg='green',
 variable=v1,value=1, bd=5,relief='groove',font=('arial',14,'b
r1.pack()
r1=Radiobutton(root, text='java', width=15,height=5, bg='green',variable=v1,
 ,relief='groove',font=('arial',14,'bold'))
r1.pack()
r1=Radiobutton(root, text='c++', width=15,height=5, bg='green',
 variable=v1,value=3,bd=5,relief='groove',font=('arial',14,'bo
r1.pack()
root.mainloop()
### Check Buttons 
import tkinter as tk
from tkinter import *
root=tk.Tk()
root.geometry('500x400+200+100')
root.configure(bg='cyan')
root.maxsize(700, 600)
root.minsize(300,200)
v1=StringVar()
v2=StringVar()
v3=StringVar()
# check Buttons
c1=Checkbutton(root, text='Python', width=15,height=5, bg='green',
 variable=v1, bd=5,relief='groove',font=('arial',14,'bold'))
c1.pack()
c2=Checkbutton(root, text='java', width=15,height=5, bg='green',variable=v2,
 ,relief='groove',font=('arial',14,'bold'))
c2.pack()
c3=Checkbutton(root, text='c++', width=15,height=5, bg='green',
 variable=v3,bd=5,relief='groove',font=('arial',14,'bold'))
c3.pack()
root.mainloop()

DAY-25
Words of the day

Cadet-------recruit

Eavesdrop----------listen in

Manipulative------Influence

Malfunction-------Glitch

Misfortune----------mishap

Reading Images With Tkinter
In order to do various operations and manipulations on images, we require Python Pillow package.
If the Pillow package is not present in the system then it can be installed using the below
command.
In Command prompt:
pip install Pillow


import tkinter as tk
from tkinter import *
from PIL import Image, ImageTk
root = tk.Tk()
root.configure()
img = Image.open("D:\Pictures\Bee.png")
img = img.resize((250, 250))
tkimage = ImageTk.PhotoImage(img)
l1=Label(root, image=tkimage).grid(row=0,column=0)
l1=Label(root, image=tkimage).grid(row=0,column=1)
l1=Label(root, image=tkimage).grid(row=0,column=3)
l1=Label(root, image=tkimage).grid(row=1,column=0)
root.mainloop()

from tkinter import *
from PIL import ImageTk,Image
root=Tk()
img=ImageTk.PhotoImage(file='PythonApplications-Python-Career-Opurtunity-Edu
Label(root,image=img).pack()
Entry(root).pack()
Button(root).pack()
root.mainloop()


from tkinter import *
from PIL import ImageTk,Image
root=Tk()
img=ImageTk.PhotoImage(file='PythonApplications-Python-Career-Opurtunity-Edu
Label(root,image=img).pack()
Entry(root).pack()
Button(root).pack()
root.mainloop()

# Frame 
from tkinter import *
from PIL import ImageTk,Image
root=Tk()
#window style here
root.geometry('900x900+100+100')
root.title('My gallery')
root.configure(bg='blue')
#img=ImageTk.PhotoImage(file='PythonApplications-Python-Career-Opurtunity-Ed
Entry(root,cursor='circle').pack()
# frame 
# Cursor types: arrow.
# circle.
# clock.
# cross.
# dotbox.
# exchange.
# fleur.
# heart.
f1=Frame(root, bg='green',cursor='circle',width=500,height=400).pack()
#label=Label(f1, image=img).pack()
root.mainloop()


from tkinter import *
import tkinter
root1 = Tk()
root1.geometry('500x400+100+100')
frame1 = Frame(root1,cursor='dot',relief='groove',bg='blue',width=100)
frame1.pack()
bottomframe1 = Frame(root1,bg='red')
bottomframe1.pack( side = TOP )
redbutton1 = Button(frame1, text="Red", fg="red")
redbutton1.pack( side = LEFT)
greenbutton1 = Button(frame1, text="Brown", fg="brown")
greenbutton1.pack( side = LEFT )
bluebutton1 = Button(frame1, text="Blue", fg="blue")
bluebutton1.pack( side = LEFT )
blackbutton1 = Button(bottomframe1, text="Black", fg="black")
blackbutton1.pack( side = BOTTOM)
yellowbutton1 = Button(bottomframe1, text="Yellow", fg="yellow", bg="red")
yellowbutton1.pack( side = RIGHT)
greenbutton1 = Button(bottomframe1, text="Green", fg="green")
greenbutton1.pack( side = RIGHT)
violetbutton1 = Button(bottomframe1, text="Violet", fg="violet")
violetbutton1.pack( side = LEFT)
pinkbutton1 = Button(bottomframe1, text="Pink", fg="pink")
pinkbutton1.pack( side = BOTTOM)
root1.mainloop()

DAY- 26

Words of the day 

Monument----------masterpiece

Madeleine----------Cookie

Fumble--------------goof up

Frenetic-------------excited

Flinched----------Cringe

Data preprocessing:
The way to prepare data to feed into program/ algorithm

1. Numpy
2. Matplotlib lib
3. Pandas

Numpy
pip install numpy
import numpy

# creating first numpy array
import numpy as np
array_1= np.array([1,2,3,4,5],dtype='float')
print(array_1)

[1. 2. 3. 4. 5.]

# check type 
print(type(array_1))

<class 'numpy.ndarray'>

# dimension check 
array_1.ndim

# check data type of array
array_1.dtype

1

Day-27
#Examle

import numpy as np
array_1= np.array([6,7,8,9,0],dtype='float',ndmin=3)
print(array_1)
[[[6. 7. 8. 9. 0.]]]
#Example 
array_1.ndim
1

Data Types in NumPy
NumPy has some extra data types, and refer to data types with one character, like i for integers, u
for unsigned integers etc.
Below is a list of all data types in NumPy and the characters used to represent them.
i - integer
b - boolean
u - unsigned integer
f - float
c - complex float
m - timedelta
M - datetime
O - object
S - string
U - unicode string

Task
1. perform basic arithmetic operations ( scalar and vector form) on arrays
2. accesss values through index( rows ,cols)

Day-28

#example

import numpy as np
array_2=np.array([[1,2,3],[6,7,9]])
print(array_2)
array_3=np.array([[1,2,3],[3,4,5]])
array_3

[[1 2 3]
[6 7 9]]
array([[1, 2, 3],
 [3, 4, 5]])

#Examle
arrr=np.array([[4,4,1,1],[2,2,9,9]])
np.unique(ar)

array([1, 2, 4, 9])

#Examle
a=np.array([1, 1, 1, 2, 3, 4, 3, 4],dtype='i')
b=np.array([1, 8, 1, 2, 3, 6, 3, 4],dtype='i')
np.concatenate((a,b))

array([1, 1, 1, 2, 3, 4, 3, 4, 1, 8, 1, 2, 3, 6, 3, 4], dtype=int32)

#Examle
np.linalg.inv(arr)

 array([[-0.54901961, 0.17647059, 0.07843137],
 [ 0.21568627, -0.17647059, 0.25490196],
 [ 0.37254902, 0.05882353, -0.19607843]])

#example
arr=np.array([[ 1,2,3],[ 7,4,8],[4,5,3]])
print(arr)
np.linalg.det(arr)

[[1 2 3]
[7 4 8]
[4 5 3]]

Day- 29
Words of the day

Hover------hang

Humiliate-------shame

Igneous-------fiery

Innovative--------new

Imitation ----------copy

# reshape ()
import numpy as np
a=np.array([1, 1, 1, 2, 3, 4, 3, 4])
b=np.array([1, 8, 1, 2, 3, 6, 3, 4])
array_4=a.reshape((2,4))
array_4

array([[1, 1, 1, 2],
 [3, 4, 3, 4]])

 Difference between ravel and flatten
There are two popular ways to flatten an array: .flatten() and .ravel(). The primary difference
between the two is that the new array created using ravel() is actually a reference to the parent
array (i.e., a “view”). This means that any changes to the new array will affect the parent array as
well. Since ravel does not create a copy, it’s memory efficient.
Data Visualisation using Matplotlib
Matplotlib is one of the most popular Python packages used for data visualization. It is a crossplatform library for making 2D plots from data in arrays. Matplotlib is written in Python and makes
use of NumPy, the numerical mathematics extension of Python. It provides an object-oriented API
that helps in embedding plots in applications using Python GUI toolkits such as PyQt,
WxPythonotTkinter.
It can be used in Python and IPython shells, Jupyter notebook and web application servers also.
Matplotlib has a procedural interface named the Pylab, which is designed to resemble MATLAB, a
proprietary programming language developed by MathWorks. Matplotlib along with NumPy can be
considered as the open source equivalent of MATLAB.
Out[23]: array([ 1, 1, 1, 67, 3, 4, 3, 4])
Out[24]: array([[ 1, 1, 1, 67],
 [ 3, 4, 3, 4]])
Out[14]: array([1, 1, 1, 2, 3, 4, 3, 4])
Out[25]: array([ 1, 1, 1, 67, 3, 4, 3, 4])
Out[30]: array([[ 1, 1, 1, 67],
 [ 3, 4, 3, 4]])
Out[19]: array([1, 1, 1, 2, 3, 4, 3, 4])
k[3]=67
k
array_4
np.ravel(array_5)
l=array_4.flatten()
l
l[2]=100
l
array_4
array_5.flatten()

Matplotlib was originally written by John D. Hunter in 2003. The current stable version is 2.2.0
released in January 2018

pip install matplotlib
pip install matplotlib==2.2.0

import matplotlib.pyplot as plt
import numpy as np
x=np.array([1,2,3,4])
y=np.array([6,7,8,9])
plt.plot(x,y)
plt.title('Simple plot')
plt.xlabel('Values_1')
plt.ylabel('Values_2')
plt.show()


DAY-30
Styling plots

import numpy as np

import matplotlib.pyplot as plt
# Create a figure of size mxn inches, k dots per inch
plt.figure(figsize=(8, 4), dpi=80,facecolor='red',clear=True)
# Create a new subplot from a grid of 1x1
plt.subplot(1, 1, 1) # subplot(rows,cols,plot no.)
X = np.linspace(-np.pi, np.pi, 250) # np.linspace(start, end,no. of sample
C = np.cos(X)
S= np.sin(X)
# Plot cosine with a blue continuous line of width 1 (pixels)
plt.plot(X, C, color="Yellow", linewidth=2.5, linestyle="dashdot",alpha=0.8)
'''
Linestyle : supported values are '-', '--', '-.', ':', 'None', ' ', '',
'solid', 'dashed', 'dashdot', 'dotted'
'''
'''
alpha: Transparency of line on plot
by default it is 1
range: 0-1
'''
# Plot sine with a green continuous line of width 1 (pixels)
plt.plot(X, S, color="green", linewidth=4.0, linestyle="-",alpha=0.5)
# Set x limits
plt.xlim(-4.0, 4.0)
# Set x ticks
plt.xticks(np.linspace(-4, 4, 5))
# Set y limits
plt.ylim(-1.0, 1.0)
# Set y ticks
plt.yticks(np.linspace(-1, 1, 10))
# Save figure using 720 dots per inch
plt.savefig("exercise_2.jpg", dpi=70)
#set up legend
plt.legend(['cos','sin'],loc='upper left')
# loc: upper right
'''
best
upper left
lower left
lower right
right
center left
center right
lower center
import numpy as np

import matplotlib.pyplot as plt
# Create a figure of size mxn inches, k dots per inch
plt.figure(figsize=(8, 4), dpi=80,facecolor='red',clear=True)
# Create a new subplot from a grid of 1x1
plt.subplot(1, 1, 1) # subplot(rows,cols,plot no.)
X = np.linspace(-np.pi, np.pi, 250) # np.linspace(start, end,no. of sample
C = np.cos(X)
S= np.sin(X)
# Plot cosine with a blue continuous line of width 1 (pixels)
plt.plot(X, C, color="Yellow", linewidth=2.5, linestyle="dashdot",alpha=0.8)
'''
Linestyle : supported values are '-', '--', '-.', ':', 'None', ' ', '',
'solid', 'dashed', 'dashdot', 'dotted'
'''
'''
alpha: Transparency of line on plot
by default it is 1
range: 0-1
'''
# Plot sine with a green continuous line of width 1 (pixels)
plt.plot(X, S, color="green", linewidth=4.0, linestyle="-",alpha=0.5)
# Set x limits
plt.xlim(-4.0, 4.0)
# Set x ticks
plt.xticks(np.linspace(-4, 4, 5))
# Set y limits
plt.ylim(-1.0, 1.0)
# Set y ticks
plt.yticks(np.linspace(-1, 1, 10))
# Save figure using 720 dots per inch
plt.savefig("exercise_2.jpg", dpi=70)
#set up legend
plt.legend(['cos','sin'],loc='upper left')
# loc: upper right
'''
best
upper left
lower left
lower right
right
center left
center right
lower center

# Types of plots
#Scatter
import matplotlib.pyplot as plt
import numpy as np
import random
y=np.random.normal(1,50,20)
x=np.random.normal(10,500,20)
plt.scatter(x,y)
plt.show()

To plot symbols rather than lines, provide an additional string argument.
symbols - , –, -., , . , , , o , ^ , v , < , > , s , + , x , D , d , 1 , 2 , 3 , 4 , h , H , p , | , _
colors b, g, r, c, m, y, k, w

%matplotlib
import numpy as np
import matplotlib.pyplot as plt
a=np.array([50,30,60,80,70])
b=np.array(['python','java','c++','c','Php'])
plt.barh(b,a)
plt.show()
Using matplotlib backend: Qt5Agg
Using matplotlib backend: Qt5Agg

#Histrogram plots

import matplotlib.pyplot as plt
import numpy as np
age=[12,23,45,67,44,6,77,8,9,44,45,88,99,7,90]
bins=4
range=(0,100)
plt.hist(age,bins,range,color='green',width=10)
plt.xlabel('age')
plt.ylabel('bins')
plt.title('Histogram')
plt.show()

# pie plot
import numpy as np
import matplotlib.pyplot as plt
a=np.array([50,30,60,80,70])
b=np.array(['python','java','c++','c','Php'])
plt.pie(a,labels=b)
plt.show()

DAY-31

PANDAS
Pandas is an open-source Python Library providing high-performance data manipulation and
analysis tool using its powerful data structures
Key Features of Pandas
Fast and efficient DataFrame object with default and customized indexing.
Tools for loading data into in-memory data objects from different file formats.
Data alignment and integrated handling of missing data.
Reshaping and pivoting of date sets.
Label-based slicing, indexing and subsetting of large data sets.
Columns from a data structure can be deleted or inserted.
Group by data for aggregation and transformations.
High performance merging and joining of data.
Time Series functionality.

Series
Pandas Series structure is a one-dimensional labeled array and capable of holding data of any
type (integer, string, float, python objects, etc.)
Syntax:
pandas.Series(data=None, index=None, dtype=None, name=None)
Parameters:
data: array- Contains data stored in Series.
index: array-like or Index (1d)
dtype: str, numpy.dtype, or ExtensionDtype, optional
name: str, optional

# installation
pip install pandas
pip install pandas==1.0.1


import pandas
pandas.__version__'1.0.1'

import pandas as pd
sr=pd.Series([1,2,3,4],dtype='float',name='Apples')
sr

0 1.0
1 2.0
2 3.0
3 4.0
Name: Apples, dtype: float64

#e.g
import pandas as pd
sr1=pd.Series(('g','h','f','r'),dtype='str',name='Apples')
sr1

0 g
1 h
2 f
3 r
Name: Apples, dtype: object

#e.g
import pandas as pd
sr1=pd.Series(('g','h','f','r'),dtype='str',name='Apples',
index=['First','second','third','fourth'])
sr1

First g
second h
third f
fourth r
Name: Apples, dtype: object

DAY-32

Importing the libraries

pip install sklearn
pip install --upgrade sklearn

import numpy as np
import matplotlib.pyplot as plt
import pandas as pd

Importing the dataset

Country Age Salary Purchased
0 France 44.0 72000.0 No
1 Spain 27.0 48000.0 Yes
2 Germany 30.0 54000.0 No
3 Spain 38.0 61000.0 No
4 Germany 40.0 NaN Yes
5 France 35.0 58000.0 Yes
6 Spain NaN 52000.0 No
7 France 48.0 79000.0 Yes
8 Germany 50.0 83000.0 No
9 France 37.0 67000.0 Yes
dataset=pd.read_csv('/content/Data.csv')
dataset

input_1=dataset.iloc[ : , :-1].values
output=dataset.iloc[ : , -1].values

print(input_1)

[['France' 44.0 72000.0]
['Spain' 27.0 48000.0]

['Germany' 30.0 54000.0]
['Spain' 38.0 61000.0]
['Germany' 40.0 nan]
['France' 35.0 58000.0]
['Spain' nan 52000.0]
['France' 48.0 79000.0]
['Germany' 50.0 83000.0]
['France' 37.0 67000.0]]
print(output)
['No' 'Yes' 'No' 'No' 'Yes' 'Yes' 'No' 'Yes' 'No' 'Yes']

.....Thank you......